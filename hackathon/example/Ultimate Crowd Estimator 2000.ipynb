{
 "cells": [
  {
   "cell_type": "markdown",
   "id": "5158dd12",
   "metadata": {},
   "source": [
    "# Ultimate Crowd Counter 2000\n",
    "\n",
    "For the PYNQ Bootcamp Hackathon 2023, we present a new tool for crowd counting -- **the ultimate crowd counter**!"
   ]
  },
  {
   "cell_type": "markdown",
   "id": "83fc463a",
   "metadata": {},
   "source": [
    "> Team Members: Coleman Gamble, André Rösti\n",
    "> \n",
    "> Model Used: pt_BCC.xmodel\n",
    "> \n",
    "> Peripherals Used: LED Bar (optional)\n",
    "> \n",
    "> Goal of the Project: Indicate the number of people in a crowd"
   ]
  },
  {
   "cell_type": "markdown",
   "id": "5102b7c4",
   "metadata": {},
   "source": [
    "### (1) Imports\n",
    "\n",
    "We used the standard imports, like in the trainings."
   ]
  },
  {
   "cell_type": "code",
   "execution_count": 11,
   "id": "a6e2c90b",
   "metadata": {},
   "outputs": [],
   "source": [
    "import cv2\n",
    "from PIL import Image\n",
    "import numpy as np\n",
    "import matplotlib.pyplot as plt\n",
    "from pynq_dpu import DpuOverlay\n",
    "from pynq_peripherals import PmodGroveAdapter\n",
    "import ipywidgets as widgets"
   ]
  },
  {
   "cell_type": "markdown",
   "id": "8c3612f8",
   "metadata": {},
   "source": [
    "### (2) Set Up Overlay, LED Bar, and Load Model\n",
    "\n",
    "First, we set up the FPGA with a DPU overlay. Then we load our \"Bayesian Crowd Counting\" model. We also set up the LED bar."
   ]
  },
  {
   "cell_type": "code",
   "execution_count": 5,
   "id": "6f3bed14",
   "metadata": {},
   "outputs": [],
   "source": [
    "overlay = DpuOverlay(\"dpu.bit\")\n",
    "adapter = PmodGroveAdapter(overlay.PMODA, G2='grove_ledbar')\n",
    "ledbar = adapter.G2\n",
    "overlay.load_model(\"pt_BCC.xmodel\")\n",
    "dpu = overlay.runner"
   ]
  },
  {
   "cell_type": "markdown",
   "id": "5fe01fc0",
   "metadata": {},
   "source": [
    "### (3) Preprocessing Code\n",
    "\n",
    "For preprocessing, we had to do the following things:\n",
    "1. Open the image at the given path and convert it into an RGB numpy array.\n",
    "2. Resize the image to the correct dimensions: 1000 x 800\n",
    "3. Normalize the RGB values from 0 - 255 to 0 - 1.\n",
    "4. Perform \"Z score normalization\", something this model requires that we copied from the paper."
   ]
  },
  {
   "cell_type": "code",
   "execution_count": 6,
   "id": "a38860a0",
   "metadata": {},
   "outputs": [],
   "source": [
    "def preprocess(path):\n",
    "    img_pil = Image.open(path).convert('RGB')\n",
    "    img_np = np.array(img_pil)\n",
    "    img_h, img_w, img_c = img_np.shape\n",
    "    img = img_np\n",
    "    img = Image.fromarray(img.astype('uint8'), 'RGB')#  convert to pil image\n",
    "    img = img.resize((1000, 800)) # resize to 1000 x 800 image\n",
    "    img = 1.0 * np.array(img) / 255 # normalize to 0, 1\n",
    "    img -= np.array([0.485, 0.456, 0.406]) \n",
    "    img /= np.array([0.229, 0.224, 0.225]) # z score normalization (calculated from training dataset)\n",
    "    return img.astype(np.float32, order=\"C\") # order \"C\" switchs rows and columns"
   ]
  },
  {
   "cell_type": "markdown",
   "id": "f3f148ed",
   "metadata": {},
   "source": [
    "### (4) Inference Code\n",
    "\n",
    "We first obtain the correct input and output dimensions for this model on the DPU, and prepare some arrays to hold the inputs and outputs. Then, we run the model on the preprocessed input image."
   ]
  },
  {
   "cell_type": "code",
   "execution_count": 42,
   "id": "b6244de0",
   "metadata": {},
   "outputs": [],
   "source": [
    "def inference(input_img):\n",
    "    inputTensors = dpu.get_input_tensors()\n",
    "    outputTensors = dpu.get_output_tensors()\n",
    "    shapeIn = tuple(inputTensors[0].dims)\n",
    "    shapeOut = tuple(outputTensors[0].dims)\n",
    "    outputSize = int(outputTensors[0].get_data_size() / shapeIn[0])\n",
    "    output_data = [np.zeros(shapeOut, dtype=np.float32, order=\"C\")]\n",
    "    input_data = [np.zeros(shapeIn, dtype=np.float32, order=\"C\")]\n",
    "    input_data[0] = input_img\n",
    "    job_id = dpu.execute_async(input_data, output_data)\n",
    "    dpu.wait(job_id)\n",
    "    return output_data"
   ]
  },
  {
   "cell_type": "markdown",
   "id": "98725126",
   "metadata": {},
   "source": [
    "### (5) Post-Processing Code\n",
    "\n",
    "Post processing is pretty simple: The total estimate of number of people is simply the sum of the output array."
   ]
  },
  {
   "cell_type": "code",
   "execution_count": 8,
   "id": "e1ea5311",
   "metadata": {},
   "outputs": [],
   "source": [
    "def postprocessing(output_data):\n",
    "    final_count = np.sum(output_data[0]) # sum ouputs for all \"key points\"\n",
    "    return final_count"
   ]
  },
  {
   "cell_type": "markdown",
   "id": "c01caa2c",
   "metadata": {},
   "source": [
    "### (5) LED Bar Code\n",
    "\n",
    "We set the LED level to indicate the amount of people on a scale form 0 (only one LED) - 6000 (all 10 LEDs light up)."
   ]
  },
  {
   "cell_type": "code",
   "execution_count": 9,
   "id": "6b63330c",
   "metadata": {},
   "outputs": [],
   "source": [
    "def setLedLevel(final_count):\n",
    "    MAX_NUM_PEOPLE = 6000\n",
    "    brightness = 3  # brightness of led bars\n",
    "    green_to_red = 1 # \n",
    "    level = (10 * final_count) // MAX_NUM_PEOPLE # calculate level to set on ledbar\n",
    "    level = int(level) # requires integer\n",
    "    if(level <= 0):\n",
    "        level = 1\n",
    "    elif(level > 10):\n",
    "        level = 10\n",
    "    ledbar.set_level(int(level), brightness, green_to_red)"
   ]
  },
  {
   "cell_type": "markdown",
   "id": "850ab869",
   "metadata": {},
   "source": [
    "### (6) Widgets / File Upload / Processing Code\n",
    "\n",
    "To make everything look a little nicer, we call these functions whenever a button is clicked."
   ]
  },
  {
   "cell_type": "code",
   "execution_count": 69,
   "id": "8d67de2c",
   "metadata": {},
   "outputs": [],
   "source": [
    "fileSelector = None\n",
    "button = None\n",
    "label = None\n",
    "\n",
    "def createFileSelector():\n",
    "    return widgets.FileUpload(\n",
    "            accept='',\n",
    "            multiple=False\n",
    "    )\n",
    "\n",
    "def upload():\n",
    "    filename = \"--tmp-\" + next(iter(fileSelector.value.keys()))\n",
    "    file = next(iter(fileSelector.value.values()))\n",
    "    with open(filename, \"wb\") as fp:\n",
    "        fp.write(file[\"content\"])\n",
    "    return filename\n",
    "        \n",
    "def main(x):\n",
    "    try:\n",
    "        filename = upload()\n",
    "        img = preprocess(filename)\n",
    "        output_data = inference(img)\n",
    "        final_count = postprocessing(output_data)\n",
    "        label.value = \"<p style='float:left; margin-right:20px;'><img src='{0}' width='350' /></p><p>There are approximately <strong>{1:.0f}</strong> people in this photo.</p><hr style='clear:both' />\".format(filename, final_count)\n",
    "        try:\n",
    "            setLedLevel(final_count)\n",
    "        except:\n",
    "            pass  # Ignore LED errors\n",
    "    except BaseException as e:\n",
    "        label.value = \"<p>Something went wrong: <code>{}</code></p>\".format(e)\n",
    "\n",
    "fileSelector = createFileSelector()\n",
    "\n",
    "button = widgets.Button(\n",
    "    description='Click me',\n",
    "    disabled=False,\n",
    "    button_style='',\n",
    "    tooltip='Click me',\n",
    "    icon='check'\n",
    ")\n",
    "\n",
    "header = widgets.HTML(value=\"<hr/><hr/><p style='text-align:center'><img src='./img/crowd_estimator_logo.png' /></p>\")\n",
    "label = widgets.HTML(value=\"<p>Welcome to Ultimate Crowd Estimator 2000</p>\")\n",
    "\n",
    "button.on_click(main)"
   ]
  },
  {
   "cell_type": "code",
   "execution_count": 70,
   "id": "fd1710f5",
   "metadata": {},
   "outputs": [
    {
     "data": {
      "application/vnd.jupyter.widget-view+json": {
       "model_id": "37c6080e24ba4f748d8c2fc02c9fe65c",
       "version_major": 2,
       "version_minor": 0
      },
      "text/plain": [
       "HTML(value=\"<hr/><hr/><p style='text-align:center'><img src='./crowd_estimator_logo.png' /></p>\")"
      ]
     },
     "metadata": {},
     "output_type": "display_data"
    },
    {
     "data": {
      "application/vnd.jupyter.widget-view+json": {
       "model_id": "e6a4108e93454614af64252f6c8a13c5",
       "version_major": 2,
       "version_minor": 0
      },
      "text/plain": [
       "HTML(value='<p>Welcome to Ultimate Crowd Estimator 2000</p>')"
      ]
     },
     "metadata": {},
     "output_type": "display_data"
    },
    {
     "data": {
      "application/vnd.jupyter.widget-view+json": {
       "model_id": "bf57ff99753f40dc94ccbc6e15c40e36",
       "version_major": 2,
       "version_minor": 0
      },
      "text/plain": [
       "FileUpload(value={}, description='Upload')"
      ]
     },
     "metadata": {},
     "output_type": "display_data"
    },
    {
     "data": {
      "application/vnd.jupyter.widget-view+json": {
       "model_id": "fb8ad98eb0d14f3a807ba3476e3e9ec4",
       "version_major": 2,
       "version_minor": 0
      },
      "text/plain": [
       "Button(description='Click me', icon='check', style=ButtonStyle(), tooltip='Click me')"
      ]
     },
     "metadata": {},
     "output_type": "display_data"
    }
   ],
   "source": [
    "display(header)\n",
    "display(label)\n",
    "display(fileSelector)\n",
    "display(button)"
   ]
  },
  {
   "cell_type": "markdown",
   "id": "6e8c195f",
   "metadata": {},
   "source": [
    "<hr />\n",
    "<hr />"
   ]
  },
  {
   "cell_type": "code",
   "execution_count": null,
   "id": "de8f32a7",
   "metadata": {},
   "outputs": [],
   "source": [
    "ledbar.clear()\n",
    "del dpu\n",
    "del overlay"
   ]
  }
 ],
 "metadata": {
  "kernelspec": {
   "display_name": "Python 3 (ipykernel)",
   "language": "python",
   "name": "python3"
  },
  "language_info": {
   "codemirror_mode": {
    "name": "ipython",
    "version": 3
   },
   "file_extension": ".py",
   "mimetype": "text/x-python",
   "name": "python",
   "nbconvert_exporter": "python",
   "pygments_lexer": "ipython3",
   "version": "3.10.6"
  }
 },
 "nbformat": 4,
 "nbformat_minor": 5
}
