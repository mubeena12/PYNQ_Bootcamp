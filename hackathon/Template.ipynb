{
 "cells": [
  {
   "cell_type": "markdown",
   "id": "5158dd12",
   "metadata": {},
   "source": [
    "# Your Title Here"
   ]
  },
  {
   "cell_type": "markdown",
   "id": "44ae990e",
   "metadata": {},
   "source": [
    "This template contains some of the code you may need for your Hackathon project. Some of the other code, you will have to figure out yourself -- it depends on what model you use, and what the goal of your project is.\n",
    "\n",
    "> **Don't forget to change the title of this notebook to something catchy, and describe your project briefly here!**\n",
    "> \n",
    "> Team Members: [ ]\n",
    "> \n",
    "> Model Used: [ ]\n",
    "> \n",
    "> Peripherals Used: [ ]\n",
    "> \n",
    "> Goal of the Project: [ ]\n"
   ]
  },
  {
   "cell_type": "markdown",
   "id": "f1592637",
   "metadata": {},
   "source": [
    "## Imports\n",
    "\n",
    "Most likely, you will need things from each of those imports."
   ]
  },
  {
   "cell_type": "code",
   "execution_count": 1,
   "id": "a6e2c90b",
   "metadata": {},
   "outputs": [
    {
     "data": {
      "application/javascript": [
       "\n",
       "try {\n",
       "require(['notebook/js/codecell'], function(codecell) {\n",
       "  codecell.CodeCell.options_default.highlight_modes[\n",
       "      'magic_text/x-csrc'] = {'reg':[/^%%microblaze/]};\n",
       "  Jupyter.notebook.events.one('kernel_ready.Kernel', function(){\n",
       "      Jupyter.notebook.get_cells().map(function(cell){\n",
       "          if (cell.cell_type == 'code'){ cell.auto_highlight(); } }) ;\n",
       "  });\n",
       "});\n",
       "} catch (e) {};\n"
      ]
     },
     "metadata": {},
     "output_type": "display_data"
    },
    {
     "data": {
      "application/javascript": [
       "\n",
       "try {\n",
       "require(['notebook/js/codecell'], function(codecell) {\n",
       "  codecell.CodeCell.options_default.highlight_modes[\n",
       "      'magic_text/x-csrc'] = {'reg':[/^%%pybind11/]};\n",
       "  Jupyter.notebook.events.one('kernel_ready.Kernel', function(){\n",
       "      Jupyter.notebook.get_cells().map(function(cell){\n",
       "          if (cell.cell_type == 'code'){ cell.auto_highlight(); } }) ;\n",
       "  });\n",
       "});\n",
       "} catch (e) {};\n"
      ]
     },
     "metadata": {},
     "output_type": "display_data"
    }
   ],
   "source": [
    "from pynq_dpu import DpuOverlay   # Overlay for the FPGA\n",
    "from pynq_peripherals import *    # Peripherals\n",
    "import numpy as np                # Numerical library for matrix calculations\n",
    "import cv2                        # OpenCV image processing library\n",
    "import matplotlib.pyplot as plt   # Plotting Library\n",
    "import IPython.display            # Display Widget in Jupyter Notebook"
   ]
  },
  {
   "cell_type": "markdown",
   "id": "8c3612f8",
   "metadata": {},
   "source": [
    "\n",
    "## Loading the model\n",
    "\n",
    "This will prepare your FPGA with a DPU overlay, and then load your model onto that overlay."
   ]
  },
  {
   "cell_type": "code",
   "execution_count": 2,
   "id": "9d091736",
   "metadata": {},
   "outputs": [],
   "source": [
    "xmodelPath = \"\"  # <- Put your model here\n",
    "overlay = DpuOverlay(\"dpu.bit\")\n",
    "overlay.load_model(xmodelPath)\n",
    "dpu = overlay.runner"
   ]
  },
  {
   "cell_type": "markdown",
   "id": "3c282993",
   "metadata": {},
   "source": [
    "> **Note:** If you run into a \"Device or resource busy\" error, quit all your Jupyter notebook kernels and restart this one. Then, try again. You can quit notebook kernels by clicking Kernel > Shutdown and restart by clicking Kernel > Restart."
   ]
  },
  {
   "cell_type": "markdown",
   "id": "9d436591",
   "metadata": {},
   "source": [
    "Let's see what the input and output dimensions of this model are:"
   ]
  },
  {
   "cell_type": "code",
   "execution_count": 3,
   "id": "b72c7b29",
   "metadata": {},
   "outputs": [
    {
     "name": "stdout",
     "output_type": "stream",
     "text": [
      "shapeIn:    (1, 368, 368, 3)\n",
      "shapeOut:   (1, 46, 46, 26)\n",
      "outputSize: 55016\n"
     ]
    }
   ],
   "source": [
    "inputTensors  = dpu.get_input_tensors()\n",
    "outputTensors = dpu.get_output_tensors()\n",
    "\n",
    "shapeIn    = tuple(inputTensors[0].dims)\n",
    "shapeOut   = tuple(outputTensors[0].dims)\n",
    "outputSize = int(outputTensors[0].get_data_size() / shapeIn[0])\n",
    "\n",
    "print(\"shapeIn:    {}\".format(shapeIn))\n",
    "print(\"shapeOut:   {}\".format(shapeOut))\n",
    "print(\"outputSize: {}\".format(outputSize))"
   ]
  },
  {
   "cell_type": "markdown",
   "id": "5f7afa88",
   "metadata": {},
   "source": [
    "## Input Preprocessing\n",
    "\n",
    "At this point, you will probably need to get some input data from somewhere, and then preprocess it to feed it into your model.\n",
    "\n",
    "> Briefly describe here what you had to do for preprocessing.\n",
    "\n",
    "> **Note:** Make sure that the input has the correct shape (`shapeIn` from above) after your preprocessing!"
   ]
  },
  {
   "cell_type": "code",
   "execution_count": 4,
   "id": "7860ce77",
   "metadata": {},
   "outputs": [],
   "source": [
    "preprocessedInput = np.random.rand(*shapeIn)  # <- add your work here"
   ]
  },
  {
   "cell_type": "markdown",
   "id": "5fe01fc0",
   "metadata": {},
   "source": [
    "## Run the model\n",
    "\n",
    "We will put our preprocessed input from above in an inputData array, and prepare space for the results with an empty outputData array. When the model is finished running, it will put its results in the outputData array."
   ]
  },
  {
   "cell_type": "code",
   "execution_count": 5,
   "id": "ec8c14ed",
   "metadata": {},
   "outputs": [
    {
     "data": {
      "text/plain": [
       "0"
      ]
     },
     "execution_count": 5,
     "metadata": {},
     "output_type": "execute_result"
    }
   ],
   "source": [
    "modelDtype   = np.float32\n",
    "outputData   = [np.zeros(shapeOut, dtype=modelDtype, order=\"C\")]\n",
    "inputData    = [np.zeros(shapeIn,  dtype=modelDtype, order=\"C\")]\n",
    "inputData[0] = preprocessedInput.reshape(shapeIn).astype(modelDtype, order=\"C\")\n",
    "job_id = dpu.execute_async(inputData, outputData)\n",
    "dpu.wait(job_id)"
   ]
  },
  {
   "cell_type": "markdown",
   "id": "e4986ad1",
   "metadata": {},
   "source": [
    "## Post-process the output\n",
    "\n",
    "At this point, it is up to you to make sense of the output of the model.\n",
    "\n",
    "It will likely give you a matrix of numbers. To make sense of these numbers, you may need to do some post processing, like summing them up.\n",
    "\n",
    "> Describe what post-processing you had to do."
   ]
  },
  {
   "cell_type": "code",
   "execution_count": 7,
   "id": "c4385b97",
   "metadata": {},
   "outputs": [
    {
     "name": "stdout",
     "output_type": "stream",
     "text": [
      "Output\n",
      "Shape:   (1, 46, 46, 26)\n",
      "Minimum: -0.0078125\n",
      "Maximum: 0.0078125\n",
      "Mean:    8.577050175517797e-05\n",
      "Median:  0.0\n",
      "Stddev:  0.0008302718051709235\n"
     ]
    }
   ],
   "source": [
    "myOutput = outputData[0]\n",
    "\n",
    "# We are going to print some statistics about the output as an example.\n",
    "# Feel free to remove everything below.\n",
    "print(\"Output\")\n",
    "print(\"Shape:   {}\".format(myOutput.shape))\n",
    "print(\"Minimum: {}\".format(np.min(myOutput)))\n",
    "print(\"Maximum: {}\".format(np.max(myOutput)))\n",
    "print(\"Mean:    {}\".format(np.mean(myOutput)))\n",
    "print(\"Median:  {}\".format(np.median(myOutput)))\n",
    "print(\"Stddev:  {}\".format(np.std(myOutput)))"
   ]
  },
  {
   "cell_type": "markdown",
   "id": "27df1db1",
   "metadata": {},
   "source": [
    "## Display your results\n",
    "\n",
    "After post-processing, show your results!"
   ]
  },
  {
   "cell_type": "markdown",
   "id": "256c347a",
   "metadata": {},
   "source": [
    "## Teardown\n",
    "\n",
    "At the end, it is good to destroy your DPU objects. This way, you won't have any issues using your KRIA from another notebook later."
   ]
  },
  {
   "cell_type": "code",
   "execution_count": 8,
   "id": "92f1cd34",
   "metadata": {},
   "outputs": [],
   "source": [
    "del dpu\n",
    "del overlay"
   ]
  }
 ],
 "metadata": {
  "kernelspec": {
   "display_name": "Python 3 (ipykernel)",
   "language": "python",
   "name": "python3"
  },
  "language_info": {
   "codemirror_mode": {
    "name": "ipython",
    "version": 3
   },
   "file_extension": ".py",
   "mimetype": "text/x-python",
   "name": "python",
   "nbconvert_exporter": "python",
   "pygments_lexer": "ipython3",
   "version": "3.10.6"
  }
 },
 "nbformat": 4,
 "nbformat_minor": 5
}
