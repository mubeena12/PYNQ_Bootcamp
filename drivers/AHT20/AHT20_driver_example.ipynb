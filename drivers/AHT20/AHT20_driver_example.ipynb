{
 "cells": [
  {
   "cell_type": "markdown",
   "id": "27a487a4",
   "metadata": {},
   "source": [
    "# Humidity and Temperature Sensor (AHT20)\n",
    "<img src=\"img/AHT20.jpg\" width=500 height=500 />\n",
    "This device will measure the humidity and temperature of the room. To connect the sensor, plug it directly into the PYNQ grove adapter, which is plugged into your Kria board."
   ]
  },
  {
   "cell_type": "markdown",
   "id": "a791338e",
   "metadata": {},
   "source": [
    "# 1. Prepare the overlay\n",
    "We will download the overlay onto the board."
   ]
  },
  {
   "cell_type": "code",
   "execution_count": null,
   "id": "09212a62",
   "metadata": {
    "is_executing": true
   },
   "outputs": [],
   "source": [
    "from pynq_dpu import DpuOverlay\n",
    "from pynq_peripherals import PmodGroveAdapter\n",
    "overlay = DpuOverlay(\"dpu.bit\")"
   ]
  },
  {
   "cell_type": "markdown",
   "id": "81d954eb",
   "metadata": {},
   "source": [
    "# 2. Install the drivers from git\n",
    "Install the external drivers to use the AHT20 sensor."
   ]
  },
  {
   "cell_type": "code",
   "execution_count": 21,
   "id": "fced7590",
   "metadata": {},
   "outputs": [
    {
     "name": "stdout",
     "output_type": "stream",
     "text": [
      "Collecting git+https://github.com/LewisMcL/pynq_drivers\n",
      "  Cloning https://github.com/LewisMcL/pynq_drivers to /tmp/pip-req-build-68uny7fy\n",
      "  Running command git clone --filter=blob:none --quiet https://github.com/LewisMcL/pynq_drivers /tmp/pip-req-build-68uny7fy\n",
      "  Resolved https://github.com/LewisMcL/pynq_drivers to commit 857e67535ed40518672ea0afeba4970a6d5651dc\n",
      "  Preparing metadata (setup.py) ... \u001B[?25ldone\n",
      "\u001B[?25h"
     ]
    }
   ],
   "source": [
    "!pip3 install git+https://github.com/LewisMcL/pynq_drivers --no-deps"
   ]
  },
  {
   "cell_type": "markdown",
   "id": "7d7c3747",
   "metadata": {},
   "source": [
    "# 3. Import the drivers\n",
    "From the installed package, import the needed drivers."
   ]
  },
  {
   "cell_type": "code",
   "execution_count": null,
   "id": "79970013",
   "metadata": {
    "is_executing": true
   },
   "outputs": [],
   "source": [
    "from grove import Grove_AHT20\n",
    "from pynq.lib.pmod import PMOD_GROVE_G3"
   ]
  },
  {
   "cell_type": "markdown",
   "id": "1e8d9162",
   "metadata": {},
   "source": [
    "# 4. Create the AHT20 object\n",
    "Create the object for the AHT20. Make sure you use the correct PMOD_GROVE_G(#)."
   ]
  },
  {
   "cell_type": "code",
   "execution_count": null,
   "id": "1bfab8dd",
   "metadata": {
    "is_executing": true
   },
   "outputs": [],
   "source": [
    "py_ht = Grove_AHT20(overlay.PMODA, PMOD_GROVE_G3)"
   ]
  },
  {
   "cell_type": "markdown",
   "id": "a965dca7",
   "metadata": {},
   "source": [
    "# 5. Run the humidity and temperature functions\n",
    "Run py_ht.get_humidity() or py_ht.get_temp() to return humidity or temperature"
   ]
  },
  {
   "cell_type": "code",
   "execution_count": null,
   "id": "d370e762",
   "metadata": {
    "is_executing": true
   },
   "outputs": [],
   "source": [
    "humidity = py_ht.get_humidity()\n",
    "print('Humidity: ', float(\"{0:.2f}\".format(humidity)), '%')"
   ]
  },
  {
   "cell_type": "code",
   "execution_count": 33,
   "id": "d21793f5",
   "metadata": {},
   "outputs": [
    {
     "name": "stdout",
     "output_type": "stream",
     "text": [
      "Temperature:  29.14 C\n"
     ]
    }
   ],
   "source": [
    "temperature = py_ht.get_temp()\n",
    "print('Temperature: ', float(\"{0:.2f}\".format(temperature)), 'C')"
   ]
  }
 ],
 "metadata": {
  "kernelspec": {
   "display_name": "Python 3 (ipykernel)",
   "language": "python",
   "name": "python3"
  },
  "language_info": {
   "codemirror_mode": {
    "name": "ipython",
    "version": 3
   },
   "file_extension": ".py",
   "mimetype": "text/x-python",
   "name": "python",
   "nbconvert_exporter": "python",
   "pygments_lexer": "ipython3",
   "version": "3.8.0"
  }
 },
 "nbformat": 4,
 "nbformat_minor": 5
}
