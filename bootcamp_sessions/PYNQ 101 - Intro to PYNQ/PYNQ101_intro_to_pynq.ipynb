{
 "cells": [
  {
   "cell_type": "markdown",
   "metadata": {},
   "source": [
    "# Getting started with JupyterLab\n",
    "\n",
    "This notebook will introduce you to the JupyterLab interface. The goal of this session is to get you comfortable with talking to your new SOM board. You can get started by just reading the text here — but there are plenty of friendly helpers ready to help out too!"
   ]
  },
  {
   "cell_type": "markdown",
   "metadata": {
    "jp-MarkdownHeadingCollapsed": true
   },
   "source": [
    "## Contents\n",
    "\n",
    "* [JupyterLab](#JupyterLab)\n",
    "* [Markdown basics](#Markdown-basics)\n",
    "* [Running Python code](#Running-Python-code)\n",
    "* [Summary](#Summary)"
   ]
  },
  {
   "cell_type": "markdown",
   "metadata": {},
   "source": [
    "## JupyterLab\n",
    "\n",
    "**JupyterLab** is a next-generation web-based user interface for Project Jupyter. It enables you to work with documents and activities such as Jupyter notebooks, text editors, terminals and custom components in a flexible, integrated, and extensible manner. It is the interface that you are looking at right now. We will be using Jupyter notebooks through this bootcamp.\n",
    "\n",
    "A Jupyter notebook consists of cells that are used to write and run code or to record explanatory notes and comments. Notebooks are working documents that can be modified. It is always a good practice to save a copy of the original notebook before you start to edit. File-> Duplicate notebook lets you do this.\n"
   ]
  },
  {
   "cell_type": "markdown",
   "metadata": {},
   "source": [
    "### Navigating around the Notebook"
   ]
  },
  {
   "cell_type": "markdown",
   "metadata": {},
   "source": [
    "The Notebook can be navigated using the tool and menu bars or using keyboard shortcuts. Before we start running any Python code in this notebook, let's take a quick look at how we can write text notes (like this one!) using *Markdown*."
   ]
  },
  {
   "cell_type": "markdown",
   "metadata": {},
   "source": [
    "## Markdown basics"
   ]
  },
  {
   "cell_type": "markdown",
   "metadata": {},
   "source": [
    "You can write notes and comments in the Markdown cells of a notebook using Markdown syntax. The Markdown supported by Jupyter Notebooks is described in the following section. \n",
    "\n",
    "This cell is a **Markdown cell**. Double click it now to see the raw markdown.\n",
    "\n",
    "To re-render the markdown, run the cell with the `Run` button in the toolbar or by pressing <kbd>Shift</kbd>+<kbd>Enter</kbd>.\n",
    "\n",
    "> Look at the dropdown box in the toolbar — it should say \"Markdown\". This is how your browser knows to render this text as Markdown, rather than try to execute it as Python code.\n",
    "\n",
    "Let's have a look at some different things we can do with Markdown.\n",
    "Help -> Markdown Reference is a useful reference."
   ]
  },
  {
   "cell_type": "markdown",
   "metadata": {},
   "source": [
    "### Writing your own\n",
    "\n",
    "Now is a good time to try writing some of your own Markdown. Try creating a new markdown cell and typing something into it. Create the cell with the the `+` button in the toolbar and change it to a \"Markdown\" cell using the dropdown in the toolbar (it will default to \"Code\").\n",
    "\n",
    "Write a sentence or two and include an image. Here's one for example: https://bit.ly/3Ivrmcl (bonus points if you can tell us who this is!).\n",
    "\n",
    "When you're ready, let's move on to running some Python code on the PYNQ board."
   ]
  },
  {
   "cell_type": "markdown",
   "metadata": {},
   "source": [
    "## Running Python code\n",
    "\n",
    "You can type Python code into a Code Cell and execute it on the SOM board by running the cell — much like how we rendered Markdown previously.\n",
    "\n",
    "We'll focus just on reading and executing Python for now, so don't worry if you feel uncomfortable with writing your own quite yet.\n",
    "\n",
    "Let's start with a very simple example first. How about printing a string message?"
   ]
  },
  {
   "cell_type": "code",
   "execution_count": 22,
   "metadata": {},
   "outputs": [
    {
     "name": "stdout",
     "output_type": "stream",
     "text": [
      "Hello, St Vrain!\n"
     ]
    }
   ],
   "source": [
    "print(\"Hello, St Vrain!\")"
   ]
  },
  {
   "cell_type": "markdown",
   "metadata": {},
   "source": [
    "Execute the Code Cell above with the `Run` button in the toolbar, or by pressing <kbd>Shift</kbd>+<kbd>Enter</kbd>.\n",
    "\n",
    "### Using variables\n",
    "\n",
    "We can write any Python code at all here. Let's try using a variable to store some data."
   ]
  },
  {
   "cell_type": "code",
   "execution_count": 23,
   "metadata": {},
   "outputs": [
    {
     "name": "stdout",
     "output_type": "stream",
     "text": [
      "0\n"
     ]
    }
   ],
   "source": [
    "counter = 0\n",
    "print(counter)"
   ]
  },
  {
   "cell_type": "markdown",
   "metadata": {},
   "source": [
    "Now we can use this `counter` value in future cells. Let's increase the counter value and then print it."
   ]
  },
  {
   "cell_type": "code",
   "execution_count": 25,
   "metadata": {},
   "outputs": [
    {
     "name": "stdout",
     "output_type": "stream",
     "text": [
      "1\n"
     ]
    }
   ],
   "source": [
    "counter = counter + 1\n",
    "print(counter)"
   ]
  },
  {
   "cell_type": "markdown",
   "metadata": {},
   "source": [
    "Note that we don't have to run these code cells in sequence either! Try running the previous cell a few more times in a row. You should see the counter value increase by one every time.\n",
    "\n",
    "### Using lists\n",
    "\n",
    "When working with more complicated data than single numbers, we can start to use Python structures like [lists](https://www.programiz.com/python-programming/list) and [dictionaries](https://www.programiz.com/python-programming/dictionary). Let's make a list of adjectives and a list of nouns."
   ]
  },
  {
   "cell_type": "code",
   "execution_count": 26,
   "metadata": {},
   "outputs": [],
   "source": [
    "adjectives = [\"large\",    \"small\",    \"sweet\",      \"salty\", \"spooky\" ]\n",
    "nouns      = [\"dinosaur\", \"engineer\", \"SOM board\", \"truck\", \"balloon\"]"
   ]
  },
  {
   "cell_type": "markdown",
   "metadata": {},
   "source": [
    "Now we can select words from each list by position. Be careful here — Python counts positions starting from 0! The first element is at position 0, the second is at position 1, etc."
   ]
  },
  {
   "cell_type": "code",
   "execution_count": 27,
   "metadata": {},
   "outputs": [
    {
     "name": "stdout",
     "output_type": "stream",
     "text": [
      "dinosaur\n",
      "SOM board\n",
      "balloon\n"
     ]
    }
   ],
   "source": [
    "print(nouns[0])\n",
    "print(nouns[2])\n",
    "print(nouns[4])"
   ]
  },
  {
   "cell_type": "markdown",
   "metadata": {},
   "source": [
    "Or we can even select multiple words:"
   ]
  },
  {
   "cell_type": "code",
   "execution_count": 28,
   "metadata": {},
   "outputs": [
    {
     "name": "stdout",
     "output_type": "stream",
     "text": [
      "['sweet', 'salty', 'spooky']\n"
     ]
    }
   ],
   "source": [
    "print(adjectives[2:5])"
   ]
  },
  {
   "cell_type": "markdown",
   "metadata": {},
   "source": [
    "### Using If Statements\n",
    "\n",
    "Sometimes, we want a statement to execute only if certain conditions are true. Just like in real life, I want to bring an umbrella outside only *if* it is raining. This is where an if statement comes in handy. \n",
    "\n",
    "If the condition we want is true, it executes the statements inside of it. If the condition is false, it will simply skip them, unless we include an *else* statement after, in which case it will execute the statements inside the else instead. \n",
    "\n",
    "You may have also noticed that we are using two equal signs in our comparison, instead of one. In general, one equal sign is used to assign values, like our variable `counter`, while a double equal sign is used for comparisons: Is x equal to y? \n",
    "\n"
   ]
  },
  {
   "cell_type": "code",
   "execution_count": 29,
   "metadata": {},
   "outputs": [
    {
     "name": "stdout",
     "output_type": "stream",
     "text": [
      "False :(\n"
     ]
    }
   ],
   "source": [
    "if nouns[0] == \"small\":\n",
    "    print(\"True!\")\n",
    "else:\n",
    "    print(\"False :(\")"
   ]
  },
  {
   "cell_type": "markdown",
   "metadata": {},
   "source": [
    "### Using For Loops\n",
    "\n",
    "So far we've learned some basic Python statements, but it can get a little clunky if we're trying to execute multiple statements in a row. Next, we'll learn about how to condense our code using a loop.\n",
    "\n",
    "We can use a `for` loop to iterate over all of the elements in a list. In simpler terms, our temporary variable `number` takes on each value in the list, executing the statements within the loop once as each value. "
   ]
  },
  {
   "cell_type": "code",
   "execution_count": 30,
   "metadata": {},
   "outputs": [
    {
     "name": "stdout",
     "output_type": "stream",
     "text": [
      "0\n",
      "I'm repeating!\n",
      "1\n",
      "I'm repeating!\n",
      "2\n",
      "I'm repeating!\n",
      "3\n",
      "I'm repeating!\n"
     ]
    }
   ],
   "source": [
    "for number in [0, 1, 2, 3]:\n",
    "    print(number)\n",
    "    print(\"I'm repeating!\")"
   ]
  },
  {
   "cell_type": "markdown",
   "metadata": {},
   "source": [
    "Sometimes we would like to iterate through many numbers in our loop, and typing all of these out would be a big waste of time! Instead of supplying the list directly, let's use [range(...)](https://www.programiz.com/python-programming/methods/built-in/range) to make a list for us.\n",
    "\n",
    "We tell `range(...)` how many numbers to give us and it will make a list by starting from 0 and counting up by 1 each time. For example, `range(4)` would give us 4 numbers starting from zero (`[0, 1, 2, 3]`).\n",
    "\n",
    "Let's try it out."
   ]
  },
  {
   "cell_type": "code",
   "execution_count": 31,
   "metadata": {},
   "outputs": [
    {
     "name": "stdout",
     "output_type": "stream",
     "text": [
      "0\n",
      "I'm repeating!\n",
      "1\n",
      "I'm repeating!\n",
      "2\n",
      "I'm repeating!\n",
      "3\n",
      "I'm repeating!\n"
     ]
    }
   ],
   "source": [
    "for number in range(4):\n",
    "    print(number)\n",
    "    print(\"I'm repeating!\")"
   ]
  },
  {
   "cell_type": "markdown",
   "metadata": {},
   "source": [
    "### Using libraries\n",
    "\n",
    "Just for fun, let's combine a random pair of adjectives and nouns. For this, we need to import a Python library that can generate [random](https://docs.python.org/3/library/random.html) numbers. There are lots of existing Python modules like this available online — remember that you can import and use these for your own projects!"
   ]
  },
  {
   "cell_type": "code",
   "execution_count": 32,
   "metadata": {},
   "outputs": [
    {
     "name": "stdout",
     "output_type": "stream",
     "text": [
      "What a large SOM board!\n"
     ]
    }
   ],
   "source": [
    "import random\n",
    "\n",
    "adjective_index = random.randint(0, 4)\n",
    "noun_index      = random.randint(0, 4)\n",
    "\n",
    "print('What a ' + adjectives[adjective_index] + ' ' + nouns[noun_index] + '!')"
   ]
  },
  {
   "cell_type": "markdown",
   "metadata": {},
   "source": [
    "For any new library, we'll need to find out how to use it! We can look at the documentation from the notebook too. If you want to find out more about anything, just type `?` after it. For example, we used something called `random.randint` in the cell above. Let's find out what this does exactly."
   ]
  },
  {
   "cell_type": "code",
   "execution_count": 33,
   "metadata": {},
   "outputs": [
    {
     "data": {
      "text/plain": [
       "\u001b[1;31mSignature:\u001b[0m \u001b[0mrandom\u001b[0m\u001b[1;33m.\u001b[0m\u001b[0mrandint\u001b[0m\u001b[1;33m(\u001b[0m\u001b[0ma\u001b[0m\u001b[1;33m,\u001b[0m \u001b[0mb\u001b[0m\u001b[1;33m)\u001b[0m\u001b[1;33m\u001b[0m\u001b[1;33m\u001b[0m\u001b[0m\n",
       "\u001b[1;31mDocstring:\u001b[0m\n",
       "Return random integer in range [a, b], including both end points.\n",
       "        \n",
       "\u001b[1;31mFile:\u001b[0m      c:\\program files\\windowsapps\\pythonsoftwarefoundation.python.3.11_3.11.1264.0_x64__qbz5n2kfra8p0\\lib\\random.py\n",
       "\u001b[1;31mType:\u001b[0m      method"
      ]
     },
     "metadata": {},
     "output_type": "display_data"
    }
   ],
   "source": [
    "random.randint?"
   ]
  },
  {
   "cell_type": "markdown",
   "metadata": {},
   "source": [
    "The documentation should pop up at the bottom of the screen now. According to the documentation, our `random.randint(0, 4)` line will pick a random number from 0, 1, 2, 3, or 4.\n",
    "\n",
    "After typing `random.`, the <kbd>Tab</kbd> key should also let you see all of the other possibilities within the `random` package too 😊"
   ]
  },
  {
   "cell_type": "markdown",
   "metadata": {},
   "source": [
    "### Displaying media\n",
    "\n",
    "So far we've only made Python output text. This is OK, but we can output much more interesting things in a notebook!\n",
    "\n",
    "For example, we can output YouTube videos!"
   ]
  },
  {
   "cell_type": "code",
   "execution_count": 34,
   "metadata": {},
   "outputs": [
    {
     "data": {
      "image/jpeg": "[encoded data removed]",
      "text/html": [
       "\n",
       "        <iframe\n",
       "            width=\"400\"\n",
       "            height=\"300\"\n",
       "            src=\"https://www.youtube.com/embed/-NIaejsQ2s8\"\n",
       "            frameborder=\"0\"\n",
       "            allowfullscreen\n",
       "            \n",
       "        ></iframe>\n",
       "        "
      ],
      "text/plain": [
       "<IPython.lib.display.YouTubeVideo at 0x212abfd6410>"
      ]
     },
     "execution_count": 34,
     "metadata": {},
     "output_type": "execute_result"
    }
   ],
   "source": [
    "from IPython.display import YouTubeVideo\n",
    "YouTubeVideo('-NIaejsQ2s8')"
   ]
  },
  {
   "cell_type": "markdown",
   "metadata": {},
   "source": [
    "Finally, we can show off some fancy plotting features using [`matplotlib`](https://matplotlib.org/gallery/index.html). This is quite advanced, so don't worry if the code is a little bit cryptic for now."
   ]
  },
  {
   "cell_type": "code",
   "execution_count": 42,
   "metadata": {},
   "outputs": [
    {
     "data": {
      "text/plain": [
       "Text(0.5, 1.0, 'A sine wave')"
      ]
     },
     "execution_count": 42,
     "metadata": {},
     "output_type": "execute_result"
    },
    {
     "data": {
      "image/png": "[encoded data removed]",
      "text/plain": [
       "<Figure size 640x480 with 1 Axes>"
      ]
     },
     "metadata": {},
     "output_type": "display_data"
    }
   ],
   "source": [
    "%matplotlib inline\n",
    "\n",
    "import numpy as np\n",
    "import matplotlib.pyplot as plt\n",
    "\n",
    "x = np.linspace(0, 10, 500)\n",
    "y = np.sin(x)\n",
    "\n",
    "plt.plot(x,y)\n",
    "plt.title('A sine wave')"
   ]
  },
  {
   "cell_type": "markdown",
   "metadata": {},
   "source": [
    "If you'd like to try running any of your own Python code, you can create a new cell using the `+` button in the toolbar."
   ]
  },
  {
   "cell_type": "markdown",
   "metadata": {},
   "source": [
    "## Summary\n",
    "\n",
    "You've reached the end of our intro session. So far, you've:\n",
    "\n",
    "  * Got your new SOM board connected to the network\n",
    "  * Learned how to navigate Jupyter Notebooks\n",
    "  * Have written some Markdown to neatly express your notes\n",
    "  * Executed some basic Python code, including:\n",
    "    + Print statements\n",
    "    + Variables\n",
    "    + Lists\n",
    "    + If Statements\n",
    "    + For loops\n",
    "    + Importing existing libraries\n",
    "    + Looking up documentation\n",
    "    + Displaying different types of media\n",
    "\n",
    "### Bonus Challenges\n",
    "\n",
    "If you finish this session early, here are a few (totally optional) Python challenges you could attempt while the others catch-up:\n",
    "\n",
    "  * Extend our random adjective/noun code to make a [\"Mad Lib\"](https://en.wikipedia.org/wiki/Mad_Libs) game\n",
    "  * Read about Python's [dictionaries](https://www.programiz.com/python-programming/dictionary) and include this in your Mad Lib code, letting the writer force each blank to be either an adjective or a noun\n",
    "  * Try running some of the cool plotting examples from the [matplotlib](https://matplotlib.org/gallery/index.html) website.\n",
    "  * Or finally, read a little more about SOM [here](https://xilinx.github.io/kria-apps-docs/home/build/html/index.html)!\n"
   ]
  },
  {
   "cell_type": "markdown",
   "metadata": {},
   "source": [
    "----\n",
    "\n",
    "[Back to the top](#Contents)\n",
    "\n",
    "----"
   ]
  }
 ],
 "metadata": {
  "kernelspec": {
   "display_name": "Python 3 (ipykernel)",
   "language": "python",
   "name": "python3"
  },
  "language_info": {
   "codemirror_mode": {
    "name": "ipython",
    "version": 3
   },
   "file_extension": ".py",
   "mimetype": "text/x-python",
   "name": "python",
   "nbconvert_exporter": "python",
   "pygments_lexer": "ipython3",
   "version": "3.11.4"
  },
  "vscode": {
   "interpreter": {
    "hash": "1c8f8d5709ef5b77151153e87bbaaf0dd6d1368b4ce66b343fe21901d65d7ff9"
   }
  }
 },
 "nbformat": 4,
 "nbformat_minor": 4
}
