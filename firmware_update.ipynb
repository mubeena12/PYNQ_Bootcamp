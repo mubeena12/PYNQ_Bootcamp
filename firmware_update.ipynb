{
 "cells": [
  {
   "cell_type": "code",
   "execution_count": null,
   "id": "79ed934f-c270-4752-896c-ff139715ec1d",
   "metadata": {},
   "outputs": [],
   "source": [
    "%%bash\n",
    "\n",
    "sudo xmutil bootfw_status\n",
    "sudo xmutil bootfw_update -i /home/ubuntu/Downloads/BOOT_xilinx-k26-starterkit-v2022.1-09152304_update3.BIN"
   ]
  },
  {
   "cell_type": "markdown",
   "id": "0bd4f0c7-7634-4667-b0c7-b557973cefcd",
   "metadata": {},
   "source": [
    "Now run this command after power cycling it once"
   ]
  },
  {
   "cell_type": "code",
   "execution_count": 1,
   "id": "9b1b30cf-998c-49a5-8b7d-95c5388f288f",
   "metadata": {},
   "outputs": [
    {
     "name": "stdout",
     "output_type": "stream",
     "text": [
      "Marking last booted image as bootable\n"
     ]
    }
   ],
   "source": [
    "%%bash\n",
    "\n",
    "sudo xmutil bootfw_update -v "
   ]
  },
  {
   "cell_type": "code",
   "execution_count": null,
   "id": "91c3e675-988a-4d6a-8e14-e1724a148759",
   "metadata": {},
   "outputs": [],
   "source": []
  }
 ],
 "metadata": {
  "kernelspec": {
   "display_name": "Python 3 (ipykernel)",
   "language": "python",
   "name": "python3"
  },
  "language_info": {
   "codemirror_mode": {
    "name": "ipython",
    "version": 3
   },
   "file_extension": ".py",
   "mimetype": "text/x-python",
   "name": "python",
   "nbconvert_exporter": "python",
   "pygments_lexer": "ipython3",
   "version": "3.10.6"
  }
 },
 "nbformat": 4,
 "nbformat_minor": 5
}
